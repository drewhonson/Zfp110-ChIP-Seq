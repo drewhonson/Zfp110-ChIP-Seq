{
 "cells": [
  {
   "cell_type": "code",
   "execution_count": 214,
   "metadata": {},
   "outputs": [
    {
     "name": "stdout",
     "output_type": "stream",
     "text": [
      "Initial Pass of Data\n",
      "  chr     start       end\n",
      "0   7  13432691  13436875\n",
      "1  17  15680826  15681960\n",
      "2  13  65748695  65749489\n",
      "3  11  50713181  50714450\n",
      "4  13  66628788  66630406\n",
      "With URLs Added\n",
      "  chr     start       end  \\\n",
      "0   7  13432691  13436875   \n",
      "1  17  15680826  15681960   \n",
      "2  13  65748695  65749489   \n",
      "3  11  50713181  50714450   \n",
      "4  13  66628788  66630406   \n",
      "\n",
      "                                                                                          url  \n",
      "0   https://genome.ucsc.edu/cgi-bin/das/mm9/features?segment=7:13432691,13436875;type=refGene  \n",
      "1  https://genome.ucsc.edu/cgi-bin/das/mm9/features?segment=17:15680826,15681960;type=refGene  \n",
      "2  https://genome.ucsc.edu/cgi-bin/das/mm9/features?segment=13:65748695,65749489;type=refGene  \n",
      "3  https://genome.ucsc.edu/cgi-bin/das/mm9/features?segment=11:50713181,50714450;type=refGene  \n",
      "4  https://genome.ucsc.edu/cgi-bin/das/mm9/features?segment=13:66628788,66630406;type=refGene  \n"
     ]
    }
   ],
   "source": [
    "import requests\n",
    "import pandas as pd\n",
    "pd.set_option('max_colwidth',100)\n",
    "from bs4 import BeautifulSoup\n",
    "\n",
    "def requrl(x):\n",
    "    gene = BeautifulSoup(requests.get(x).content, 'html.parser').feature['label']\n",
    "    return gene\n",
    "\n",
    "text = pd.read_csv('110-peaks.csv')\n",
    "array = pd.DataFrame(data = text)\n",
    "array['chr'] = array['chr'].str[3:]\n",
    "array['start'] = array['start'].astype('str')\n",
    "array['end'] = array['end'].astype('str')\n",
    "print('Initial Pass of Data')\n",
    "print(array.head())\n",
    "\n",
    "array['url'] = 'https://genome.ucsc.edu/cgi-bin/das/mm9/features?segment=' \\\n",
    "+ array['chr'] + ':' + array['start'] + ',' + array['end'] + ';type=refGene'\n",
    "print('With URLs Added')\n",
    "print(array.head())\n"
   ]
  },
  {
   "cell_type": "code",
   "execution_count": 226,
   "metadata": {},
   "outputs": [
    {
     "name": "stdout",
     "output_type": "stream",
     "text": [
      "Approximate hours to retrieve all the genes with requrl\n",
      "2.575\n"
     ]
    }
   ],
   "source": [
    "print(\"Approximate hours to retrieve all the genes with requrl\")\n",
    "print(((1854*5)/60)/60)"
   ]
  },
  {
   "cell_type": "code",
   "execution_count": null,
   "metadata": {
    "collapsed": true
   },
   "outputs": [],
   "source": [
    "# This code will find all the gene names. Make sure you allot enough time to run it\n",
    "\n",
    "array['genes'] = array['url'].apply(requrl)"
   ]
  }
 ],
 "metadata": {
  "kernelspec": {
   "display_name": "Python 3",
   "language": "python",
   "name": "python3"
  },
  "language_info": {
   "codemirror_mode": {
    "name": "ipython",
    "version": 3
   },
   "file_extension": ".py",
   "mimetype": "text/x-python",
   "name": "python",
   "nbconvert_exporter": "python",
   "pygments_lexer": "ipython3",
   "version": "3.6.1"
  }
 },
 "nbformat": 4,
 "nbformat_minor": 2
}
